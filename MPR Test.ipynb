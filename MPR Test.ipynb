{
 "cells": [
  {
   "cell_type": "code",
   "execution_count": 2,
   "metadata": {},
   "outputs": [],
   "source": [
    "import pandas as pd\n",
    "from sklearn.model_selection import train_test_split\n",
    "from sklearn.linear_model import LinearRegression\n",
    "import numpy as np"
   ]
  },
  {
   "cell_type": "code",
   "execution_count": 3,
   "metadata": {},
   "outputs": [],
   "source": [
    "df = pd.read_csv('winequality-red.csv')"
   ]
  },
  {
   "cell_type": "code",
   "execution_count": 4,
   "metadata": {},
   "outputs": [
    {
     "name": "stdout",
     "output_type": "stream",
     "text": [
      "fixed acidity           0.124052\n",
      "volatile acidity       -0.390558\n",
      "citric acid             0.226373\n",
      "residual sugar          0.013732\n",
      "chlorides              -0.128907\n",
      "free sulfur dioxide    -0.050656\n",
      "total sulfur dioxide   -0.185100\n",
      "density                -0.174919\n",
      "pH                     -0.057731\n",
      "sulphates               0.251397\n",
      "alcohol                 0.476166\n",
      "Name: quality, dtype: float64\n"
     ]
    }
   ],
   "source": [
    "# there are no categorical variables. each feature is a number. Regression problem. \n",
    "# Given the set of values for features, we have to predict the quality of wine.\n",
    "# finding correlation of each feature with our target variable - quality\n",
    "correlations = df.corr()['quality'].drop('quality')\n",
    "print(correlations)"
   ]
  },
  {
   "cell_type": "code",
   "execution_count": 5,
   "metadata": {},
   "outputs": [],
   "source": [
    "def get_features(correlation_threshold):\n",
    "    abs_corrs = correlations.abs()\n",
    "    high_correlations = abs_corrs[abs_corrs > correlation_threshold].index.values.tolist()\n",
    "    return high_correlations"
   ]
  },
  {
   "cell_type": "code",
   "execution_count": 6,
   "metadata": {},
   "outputs": [
    {
     "name": "stdout",
     "output_type": "stream",
     "text": [
      "['fixed acidity', 'volatile acidity', 'citric acid', 'chlorides', 'free sulfur dioxide', 'total sulfur dioxide', 'density', 'pH', 'sulphates', 'alcohol']\n"
     ]
    }
   ],
   "source": [
    "# taking features with correlation more than 0.05 as input x and quality as target variable y\n",
    "features = get_features(0.05)\n",
    "print(features)\n",
    "x = df[features]\n",
    "y = df['quality']"
   ]
  },
  {
   "cell_type": "code",
   "execution_count": 7,
   "metadata": {},
   "outputs": [],
   "source": [
    "x_train,x_test,y_train,y_test=train_test_split(x,y,random_state=3)"
   ]
  },
  {
   "cell_type": "code",
   "execution_count": 8,
   "metadata": {},
   "outputs": [
    {
     "data": {
      "text/plain": [
       "(400,)"
      ]
     },
     "execution_count": 8,
     "metadata": {},
     "output_type": "execute_result"
    }
   ],
   "source": [
    "# x_train.shape\n",
    "# x_test.shape\n",
    "# y_train.shape\n",
    "y_test.shape"
   ]
  },
  {
   "cell_type": "code",
   "execution_count": 9,
   "metadata": {},
   "outputs": [
    {
     "data": {
      "text/plain": [
       "LinearRegression(copy_X=True, fit_intercept=True, n_jobs=None,\n",
       "         normalize=False)"
      ]
     },
     "execution_count": 9,
     "metadata": {},
     "output_type": "execute_result"
    }
   ],
   "source": [
    "# fitting linear regression to training data\n",
    "regressor = LinearRegression()\n",
    "regressor.fit(x_train,y_train)"
   ]
  },
  {
   "cell_type": "code",
   "execution_count": 10,
   "metadata": {},
   "outputs": [
    {
     "data": {
      "text/plain": [
       "array([ 0.01773723, -0.99256049, -0.13962865, -1.59094279,  0.00559652,\n",
       "       -0.00351973,  0.76859036, -0.43741414,  0.81288805,  0.30148385])"
      ]
     },
     "execution_count": 10,
     "metadata": {},
     "output_type": "execute_result"
    }
   ],
   "source": [
    "# this gives the coefficients of the 10 features selected above. \n",
    "regressor.coef_"
   ]
  },
  {
   "cell_type": "code",
   "execution_count": 11,
   "metadata": {},
   "outputs": [],
   "source": [
    "train_pred = regressor.predict(x_train)\n",
    "test_pred = regressor.predict(x_test)"
   ]
  },
  {
   "cell_type": "code",
   "execution_count": 12,
   "metadata": {},
   "outputs": [
    {
     "data": {
      "text/plain": [
       "0.37860667717952334"
      ]
     },
     "execution_count": 12,
     "metadata": {},
     "output_type": "execute_result"
    }
   ],
   "source": [
    "regressor.score(x_test,y_test)"
   ]
  },
  {
   "cell_type": "code",
   "execution_count": 16,
   "metadata": {},
   "outputs": [],
   "source": [
    "def clicked():\n",
    "    \n",
    "    list1=[]\n",
    "    list1.append(txt1.get())\n",
    "    list1.append(txt2.get())\n",
    "    list1.append(txt3.get())\n",
    "    list1.append(txt4.get())\n",
    "    list1.append(txt5.get())\n",
    "    list1.append(txt6.get())\n",
    "    list1.append(txt7.get())\n",
    "    list1.append(txt8.get())\n",
    "    list1.append(txt9.get())\n",
    "    list1.append(txt10.get())\n",
    "    list1.append(txt11.get())\n",
    "    #a = [float(txt1.get()),float(txt2.get()),float(txt3.get()),float(txt4.get()),float(txt5.get()),float(txt6.get()),float(txt7.get()),float(txt8.get()),float(txt9.get()),float(txt10.get()),float(txt11.get())]\n",
    "    for i in range(len(list1)):\n",
    "        list1[i]=float(list1[i])\n",
    "    a = np.array([list1])\n",
    "    a = a.reshape(1,-1)\n",
    "    print(regressor.predict(a))\n",
    "    inptext= tkinter.Label(window, text=\"The Quality of the Wine is:\")\n",
    "    inptext.grid(column=10,row=15)\n",
    "\n",
    "    inp2= tkinter.Label(window, text=ccd)\n",
    "    inp2.grid(column=12,row=15)\n"
   ]
  },
  {
   "cell_type": "code",
   "execution_count": 17,
   "metadata": {},
   "outputs": [
    {
     "name": "stderr",
     "output_type": "stream",
     "text": [
      "Exception in Tkinter callback\n",
      "Traceback (most recent call last):\n",
      "  File \"/usr/lib/python3.6/tkinter/__init__.py\", line 1705, in __call__\n",
      "    return self.func(*args)\n",
      "  File \"<ipython-input-16-34e5d470b1a0>\", line 20, in clicked\n",
      "    print(regressor.predict(a))\n",
      "  File \"/home/harshil/.local/lib/python3.6/site-packages/sklearn/linear_model/base.py\", line 213, in predict\n",
      "    return self._decision_function(X)\n",
      "  File \"/home/harshil/.local/lib/python3.6/site-packages/sklearn/linear_model/base.py\", line 198, in _decision_function\n",
      "    dense_output=True) + self.intercept_\n",
      "  File \"/home/harshil/.local/lib/python3.6/site-packages/sklearn/utils/extmath.py\", line 173, in safe_sparse_dot\n",
      "    return np.dot(a, b)\n",
      "ValueError: shapes (1,11) and (10,) not aligned: 11 (dim 1) != 10 (dim 0)\n"
     ]
    }
   ],
   "source": [
    "import tkinter\n",
    "from tkinter import ttk\n",
    "\n",
    "window= tkinter.Tk()\n",
    "window.title(\"Wine Quality Prediction\")\n",
    "window.geometry('400x500')\n",
    "\n",
    "l1 = tkinter.Label(window,text=\"Fixed Acidity: \", font=(\"Arial Bold\", 10))\n",
    "l1.grid(column=0,row=1)\n",
    "\n",
    "txt1=tkinter.Entry(window, width=10)\n",
    "txt1.grid(column=10,row=1)\n",
    "\n",
    "l2 = tkinter.Label(window,text=\"Volatile Acidity: \", font=(\"Arial Bold\", 10))\n",
    "l2.grid(column=0,row=2)\n",
    "\n",
    "txt2=tkinter.Entry(window, width=10)\n",
    "txt2.grid(column=10,row=2)\n",
    "\n",
    "l3 = tkinter.Label(window,text=\"Citric Acid: \", font=(\"Arial Bold\", 10))\n",
    "l3.grid(column=0,row=3)\n",
    "\n",
    "txt3=tkinter.Entry(window, width=10)\n",
    "txt3.grid(column=10,row=3)\n",
    "\n",
    "l4 = tkinter.Label(window,text=\"Residual Sugar: \", font=(\"Arial Bold\", 10))\n",
    "l4.grid(column=0,row=4)\n",
    "\n",
    "txt4=tkinter.Entry(window, width=10)\n",
    "txt4.grid(column=10,row=4)\n",
    "\n",
    "l5 = tkinter.Label(window,text=\"Chlorides: \", font=(\"Arial Bold\", 10))\n",
    "l5.grid(column=0,row=5)\n",
    "\n",
    "txt5=tkinter.Entry(window, width=10)\n",
    "txt5.grid(column=10,row=5)\n",
    "\n",
    "l6 = tkinter.Label(window,text=\"Free Sulphur Dioxide: \", font=(\"Arial Bold\", 10))\n",
    "l6.grid(column=0,row=6)\n",
    "\n",
    "txt6=tkinter.Entry(window, width=10)\n",
    "txt6.grid(column=10,row=6)\n",
    "\n",
    "l7 = tkinter.Label(window,text=\"Total Sulphur Dioxide: \", font=(\"Arial Bold\", 10))\n",
    "l7.grid(column=0,row=7)\n",
    "\n",
    "txt7=tkinter.Entry(window, width=10)\n",
    "txt7.grid(column=10,row=7)\n",
    "\n",
    "l8 = tkinter.Label(window,text=\"Density: \", font=(\"Arial Bold\", 10))\n",
    "l8.grid(column=0,row=8)\n",
    "\n",
    "txt8=tkinter.Entry(window, width=10)\n",
    "txt8.grid(column=10,row=8)\n",
    "\n",
    "l9 = tkinter.Label(window,text=\"pH: \", font=(\"Arial Bold\", 10))\n",
    "l9.grid(column=0,row=9)\n",
    "    \n",
    "txt9=tkinter.Entry(window, width=10)\n",
    "txt9.grid(column=10,row=9)\n",
    "\n",
    "l10 = tkinter.Label(window,text=\"Sulphates: \", font=(\"Arial Bold\", 10))\n",
    "l10.grid(column=0,row=10)\n",
    "\n",
    "txt10=tkinter.Entry(window, width=10)\n",
    "txt10.grid(column=10,row=10)\n",
    "\n",
    "l11 = tkinter.Label(window,text=\"Alcohol: \", font=(\"Arial Bold\", 10))\n",
    "l11.grid(column=0,row=11)\n",
    "\n",
    "txt11=tkinter.Entry(window, width=10)\n",
    "txt11.grid(column=10,row=11)\n",
    "\n",
    "b=tkinter.Button(window, text=\"Submit\", command=clicked)\n",
    "b.grid(column=10,row=13)\n",
    "\n",
    "window.mainloop()\n"
   ]
  },
  {
   "cell_type": "code",
   "execution_count": null,
   "metadata": {},
   "outputs": [],
   "source": []
  }
 ],
 "metadata": {
  "kernelspec": {
   "display_name": "Python 3",
   "language": "python",
   "name": "python3"
  },
  "language_info": {
   "codemirror_mode": {
    "name": "ipython",
    "version": 3
   },
   "file_extension": ".py",
   "mimetype": "text/x-python",
   "name": "python",
   "nbconvert_exporter": "python",
   "pygments_lexer": "ipython3",
   "version": "3.6.7"
  }
 },
 "nbformat": 4,
 "nbformat_minor": 2
}

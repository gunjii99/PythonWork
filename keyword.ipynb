{
 "cells": [
  {
   "cell_type": "code",
   "execution_count": 1,
   "metadata": {},
   "outputs": [],
   "source": [
    "def lsa(input_file):\n",
    "    \n",
    "    #importing libraries\n",
    "    from nltk.corpus import stopwords\n",
    "    from sklearn.feature_extraction.text import TfidfVectorizer\n",
    "    from sklearn.decomposition import TruncatedSVD\n",
    "    \n",
    "    #only once\n",
    "    #nltk.download('stopwords')\n",
    "    \n",
    "    #file\n",
    "    text = open(input_file,'r').read()\n",
    "    stopset = set(stopwords.words('english'))   \n",
    "    text=[text]\n",
    "    \n",
    "    #scikit-learn's TF-IDF vectorizer\n",
    "    vectorizer = TfidfVectorizer(stop_words=stopset, use_idf=True, ngram_range=(1, 3))\n",
    "    X = vectorizer.fit_transform(text)\n",
    "    #X[0]   #sparse matrix\n",
    "    #print(X[0])\n",
    "    \n",
    "    lsa = TruncatedSVD(n_components=2, n_iter=100)\n",
    "    lsa.fit(X)\n",
    "    terms = vectorizer.get_feature_names()\n",
    "    for i, comp in enumerate(lsa.components_): \n",
    "        termsInComp = zip (terms,comp)\n",
    "        sortedTerms =  sorted(termsInComp, key=lambda x: x[1], reverse=True) [:50]\n",
    "        #print(\"Concept %d:\" % i )\n",
    "        #for term in sortedTerms:\n",
    "        #    print(term[0])\n",
    "        #print (\" \")\n",
    "    return sortedTerms\n"
   ]
  },
  {
   "cell_type": "code",
   "execution_count": 2,
   "metadata": {},
   "outputs": [
    {
     "name": "stdout",
     "output_type": "stream",
     "text": [
      "[('especially logistic', 0.1958025999494513), ('especially logistic regression', 0.1958025999494513), ('explained', 0.1958025999494513), ('explained well', 0.1958025999494513), ('good', 0.1958025999494513), ('good especially', 0.1958025999494513), ('good especially logistic', 0.1958025999494513), ('lecture', 0.1958025999494513), ('lecture good', 0.1958025999494513), ('lecture good especially', 0.1958025999494513), ('logistic', 0.1958025999494513), ('logistic regression', 0.1958025999494513), ('logistic regression part', 0.1958025999494513), ('part', 0.1958025999494513), ('part teacher', 0.1958025999494513), ('part teacher explained', 0.1958025999494513), ('regression', 0.1958025999494513), ('regression part', 0.1958025999494513), ('regression part teacher', 0.1958025999494513), ('teacher', 0.1958025999494513), ('teacher explained', 0.1958025999494513), ('teacher explained well', 0.1958025999494513), ('well', 0.1958025999494513), ('especially', 0.19580259994945126), ('explained well lecture', 0.16316883329120938), ('well lecture', 0.16316883329120938), ('well lecture good', 0.16316883329120938)]\n"
     ]
    },
    {
     "name": "stderr",
     "output_type": "stream",
     "text": [
      "c:\\users\\gunja\\appdata\\local\\programs\\python\\python36\\lib\\site-packages\\sklearn\\decomposition\\truncated_svd.py:192: RuntimeWarning: invalid value encountered in true_divide\n",
      "  self.explained_variance_ratio_ = exp_var / full_var\n"
     ]
    }
   ],
   "source": [
    "x=lsa('trial.txt')\n",
    "print(x)"
   ]
  },
  {
   "cell_type": "code",
   "execution_count": null,
   "metadata": {},
   "outputs": [],
   "source": []
  }
 ],
 "metadata": {
  "kernelspec": {
   "display_name": "Python 3",
   "language": "python",
   "name": "python3"
  },
  "language_info": {
   "codemirror_mode": {
    "name": "ipython",
    "version": 3
   },
   "file_extension": ".py",
   "mimetype": "text/x-python",
   "name": "python",
   "nbconvert_exporter": "python",
   "pygments_lexer": "ipython3",
   "version": "3.7.4"
  }
 },
 "nbformat": 4,
 "nbformat_minor": 2
}

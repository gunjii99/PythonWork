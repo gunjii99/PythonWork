{
 "cells": [
  {
   "cell_type": "code",
   "execution_count": 26,
   "metadata": {},
   "outputs": [],
   "source": [
    "def lsa(text):\n",
    "    \n",
    "    #importing libraries\n",
    "    from nltk.corpus import stopwords\n",
    "    from sklearn.feature_extraction.text import TfidfVectorizer\n",
    "    from sklearn.decomposition import TruncatedSVD\n",
    "    \n",
    "    #only once\n",
    "    #nltk.download('stopwords')\n",
    "    \n",
    "    #file\n",
    "    #text = open(input_file,'r').read()\n",
    "    stopset = set(stopwords.words('english'))   \n",
    "    text=[text]\n",
    "    \n",
    "    #scikit-learn's TF-IDF vectorizer\n",
    "    vectorizer = TfidfVectorizer(stop_words=stopset, use_idf=True, ngram_range=(1, 3))\n",
    "    X = vectorizer.fit_transform(text)\n",
    "    #X[0]   #sparse matrix\n",
    "    #print(X[0])\n",
    "    \n",
    "    lsa = TruncatedSVD(n_components=2, n_iter=100)\n",
    "    lsa.fit(X)\n",
    "    terms = vectorizer.get_feature_names()\n",
    "    for i, comp in enumerate(lsa.components_): \n",
    "        termsInComp = zip (terms,comp)\n",
    "        sortedTerms =  sorted(termsInComp, key=lambda x: x[1], reverse=True) [:10]\n",
    "    l=[]\n",
    "    for i in sortedTerms:\n",
    "        l.append(i[0])\n",
    "        #print(\"Concept %d:\" % i )\n",
    "        #for term in sortedTerms:\n",
    "        #    print(term[0])\n",
    "        #print (\" \")\n",
    "    return l"
   ]
  },
  {
   "cell_type": "code",
   "execution_count": 27,
   "metadata": {},
   "outputs": [],
   "source": [
    "ans = lsa('Progress is in a state of flux, so one must reach out to the best in academia on any particular subject to get a realistic update of technology. This course will help you catch up to design thinking and doing. Get it and do it')\n"
   ]
  },
  {
   "cell_type": "code",
   "execution_count": 25,
   "metadata": {},
   "outputs": [
    {
     "data": {
      "text/plain": [
       "array([[0.13018891, 0.13018891, 0.13018891, 0.13018891, 0.13018891,\n",
       "        0.13018891, 0.13018891, 0.13018891, 0.13018891, 0.13018891,\n",
       "        0.13018891, 0.13018891, 0.13018891, 0.13018891, 0.13018891,\n",
       "        0.13018891, 0.13018891, 0.13018891, 0.26037782, 0.13018891,\n",
       "        0.13018891, 0.13018891, 0.13018891, 0.13018891, 0.13018891,\n",
       "        0.13018891, 0.13018891, 0.13018891, 0.13018891, 0.13018891,\n",
       "        0.13018891, 0.13018891, 0.13018891, 0.13018891, 0.13018891,\n",
       "        0.13018891, 0.13018891, 0.13018891, 0.13018891, 0.13018891,\n",
       "        0.13018891, 0.13018891, 0.13018891, 0.13018891, 0.13018891,\n",
       "        0.13018891, 0.13018891, 0.13018891, 0.13018891, 0.13018891,\n",
       "        0.13018891, 0.13018891, 0.13018891, 0.13018891, 0.13018891,\n",
       "        0.13018891]])"
      ]
     },
     "execution_count": 25,
     "metadata": {},
     "output_type": "execute_result"
    }
   ],
   "source": [
    "#ans"
   ]
  },
  {
   "cell_type": "code",
   "execution_count": 20,
   "metadata": {},
   "outputs": [],
   "source": [
    "from collections import Counter"
   ]
  },
  {
   "cell_type": "code",
   "execution_count": 21,
   "metadata": {},
   "outputs": [],
   "source": [
    "s = ' '.join(ans)\n",
    "l1 = s.split()\n",
    "a = Counter(l1)"
   ]
  },
  {
   "cell_type": "code",
   "execution_count": 22,
   "metadata": {},
   "outputs": [
    {
     "data": {
      "text/plain": [
       "Counter({'get': 1,\n",
       "         'academia': 4,\n",
       "         'particular': 3,\n",
       "         'subject': 1,\n",
       "         'best': 3,\n",
       "         'catch': 3,\n",
       "         'design': 2,\n",
       "         'thinking': 1,\n",
       "         'course': 1})"
      ]
     },
     "execution_count": 22,
     "metadata": {},
     "output_type": "execute_result"
    }
   ],
   "source": [
    "a"
   ]
  },
  {
   "cell_type": "code",
   "execution_count": null,
   "metadata": {},
   "outputs": [],
   "source": []
  }
 ],
 "metadata": {
  "kernelspec": {
   "display_name": "Python 3",
   "language": "python",
   "name": "python3"
  },
  "language_info": {
   "codemirror_mode": {
    "name": "ipython",
    "version": 3
   },
   "file_extension": ".py",
   "mimetype": "text/x-python",
   "name": "python",
   "nbconvert_exporter": "python",
   "pygments_lexer": "ipython3",
   "version": "3.7.4"
  }
 },
 "nbformat": 4,
 "nbformat_minor": 2
}

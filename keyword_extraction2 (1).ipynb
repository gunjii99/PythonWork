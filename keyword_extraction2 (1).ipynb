{
 "cells": [
  {
   "cell_type": "markdown",
   "metadata": {},
   "source": [
    "## //Contributors: Gunjan, Dipanshu and Vaidik"
   ]
  },
  {
   "cell_type": "code",
   "execution_count": 68,
   "metadata": {},
   "outputs": [],
   "source": [
    "# Preprocessing of Reviews\n",
    "def text_process(mess):\n",
    "\n",
    "    # Check characters to see if they are in punctuation\n",
    "    nopunc = [char for char in mess if char not in string.punctuation]\n",
    "\n",
    "    # Join the characters again to form the string.\n",
    "    nopunc = ''.join(nopunc)\n",
    "    \n",
    "    a=[word for word in nopunc.split() if word.lower() not in stopwords.words('english')]\n",
    "    \n",
    "    # Lemmatizing of the words\n",
    "    s_stemmer = WordNetLemmatizer()\n",
    "    for i in range(len(a)):\n",
    "        a[i]=s_stemmer.lemmatize(a[i])\n",
    "      \n",
    "    return ' '.join(a)\n",
    "\n",
    "\n",
    "# Code for classifing the reviews        \n",
    "def sentiment_analysis():\n",
    "    \n",
    "    # Importing libraries\n",
    "    import string\n",
    "    from nltk.corpus import stopwords\n",
    "    from nltk.stem import WordNetLemmatizer\n",
    "    import pandas as pd\n",
    "    import re\n",
    "    \n",
    "    df = pd.read_csv('reviews.csv')\n",
    "    df.head()\n",
    "    \n",
    "    # Applying preprocessing on Reviews\n",
    "    df['Review'] = df['Review'].apply(text_process)\n",
    "    ans=[]\n",
    "    for i in list(df['Review']):\n",
    "        if re.findall(r'course|courses|lecture|lectures|content|contents|syllabus|material|materials|class',i.lower()):\n",
    "            ans.append('course')\n",
    "        elif re.findall(r'video|picture|pictures|videos|video[\\s]{1,}([\\-]{1,})?(quality)+|(quality)+[\\s]{1,}(video)+',i.lower()):\n",
    "            ans.append('video')\n",
    "        elif re.findall(r'audio|voice|audio|(sound|audio)[\\s]{0,}([\\-]{1,})?(quality)+|inaudible|cannot[\\s]{1,}(hear)+',i.lower()):\n",
    "            ans.append('audio')\n",
    "        elif re.findall(r'teacher|lecturer|sir|mam|professor|prof|madam|TAs',i.lower()):\n",
    "            ans.append('lecturer')\n",
    "        else:\n",
    "            ans.append('other')\n",
    "    \n",
    "    # Store ans into catagories column\n",
    "    df['catagories'] = ans \n",
    "    \n",
    "    # Creat new data frame for other catagories\n",
    "    df2=df[df['ans']=='other']  "
   ]
  }
 ],
 "metadata": {
  "kernelspec": {
   "display_name": "Python 3",
   "language": "python",
   "name": "python3"
  },
  "language_info": {
   "codemirror_mode": {
    "name": "ipython",
    "version": 3
   },
   "file_extension": ".py",
   "mimetype": "text/x-python",
   "name": "python",
   "nbconvert_exporter": "python",
   "pygments_lexer": "ipython3",
   "version": "3.7.4"
  }
 },
 "nbformat": 4,
 "nbformat_minor": 2
}

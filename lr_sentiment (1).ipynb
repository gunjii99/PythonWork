{
 "cells": [
  {
   "cell_type": "code",
   "execution_count": 1,
   "metadata": {},
   "outputs": [
    {
     "name": "stderr",
     "output_type": "stream",
     "text": [
      "C:\\Users\\patel\\Anaconda3\\lib\\site-packages\\sklearn\\linear_model\\logistic.py:433: FutureWarning: Default solver will be changed to 'lbfgs' in 0.22. Specify a solver to silence this warning.\n",
      "  FutureWarning)\n",
      "C:\\Users\\patel\\Anaconda3\\lib\\site-packages\\sklearn\\linear_model\\logistic.py:460: FutureWarning: Default multi_class will be changed to 'auto' in 0.22. Specify the multi_class option to silence this warning.\n",
      "  \"this warning.\", FutureWarning)\n"
     ]
    }
   ],
   "source": [
    "# importing necessary libraries\n",
    "import pandas as pd\n",
    "import numpy as np\n",
    "from sklearn import preprocessing\n",
    "from sklearn.linear_model import LogisticRegression\n",
    "from sklearn.naive_bayes import MultinomialNB\n",
    "from sklearn.model_selection import train_test_split\n",
    "from sklearn.metrics import roc_auc_score,classification_report\n",
    "from sklearn.feature_extraction.text import TfidfVectorizer\n",
    "\n",
    "df = pd.read_csv('reviews.csv') # read csv file\n",
    "df.replace([np.NaN],[''],inplace=True) # removing NAN values\n",
    "\n",
    "# Classifying reviews into Positive, Negetive and Neutarl\n",
    "l=[]\n",
    "for i in list(df['Label']):\n",
    "    if(i==5):\n",
    "        l.append('Positive')\n",
    "    elif(i==1 or i==2):\n",
    "        l.append(\"Negetive\")\n",
    "    else:\n",
    "        l.append(\"Neutral\")\n",
    "df['Categories'] = l \n",
    "\n",
    "X_train, X_test, y_train, y_test = train_test_split(df['Review'], df['Categories']) \n",
    "vect = TfidfVectorizer(min_df = 5).fit(X_train) # converting words into vector and finding its tfidf value by using TfidfVectorizer\n",
    "X_train_vectorized = vect.transform(X_train)\n",
    "\n",
    "\n",
    "# Train the model by using LogisticRegression\n",
    "model = LogisticRegression()\n",
    "model.fit(X_train_vectorized, y_train) # fit data in the model\n",
    "predictions = model.predict(vect.transform(X_test)) # predict by using the model\n",
    "\n",
    "\n",
    "#Checking accuracy in the form of F1 score\n",
    "#print(classification_report(predictions,y_test))"
   ]
  },
  {
   "cell_type": "code",
   "execution_count": 8,
   "metadata": {},
   "outputs": [],
   "source": [
    "pre = model.predict(vect.transform([\"over all course structure was nice\"]))"
   ]
  },
  {
   "cell_type": "code",
   "execution_count": 9,
   "metadata": {},
   "outputs": [
    {
     "data": {
      "text/plain": [
       "array(['Positive'], dtype=object)"
      ]
     },
     "execution_count": 9,
     "metadata": {},
     "output_type": "execute_result"
    }
   ],
   "source": [
    "pre"
   ]
  },
  {
   "cell_type": "code",
   "execution_count": null,
   "metadata": {},
   "outputs": [],
   "source": []
  }
 ],
 "metadata": {
  "kernelspec": {
   "display_name": "Python 3",
   "language": "python",
   "name": "python3"
  },
  "language_info": {
   "codemirror_mode": {
    "name": "ipython",
    "version": 3
   },
   "file_extension": ".py",
   "mimetype": "text/x-python",
   "name": "python",
   "nbconvert_exporter": "python",
   "pygments_lexer": "ipython3",
   "version": "3.7.4"
  }
 },
 "nbformat": 4,
 "nbformat_minor": 2
}

{
 "cells": [
  {
   "cell_type": "code",
   "execution_count": 13,
   "metadata": {},
   "outputs": [],
   "source": [
    "# importing necessary libraries\n",
    "import pandas as pd\n",
    "import numpy as np\n",
    "from sklearn import preprocessing\n",
    "from sklearn.linear_model import LogisticRegression\n",
    "from sklearn.naive_bayes import MultinomialNB\n",
    "from sklearn.model_selection import train_test_split\n",
    "from sklearn.metrics import roc_auc_score,classification_report\n",
    "from sklearn.feature_extraction.text import TfidfVectorizer\n",
    "\n",
    "df = pd.read_csv('reviews.csv') # read csv file\n",
    "df.replace([np.NaN],[''],inplace=True) # removing NAN values\n",
    "\n",
    "# Classifying reviews into Positive, Negetive and Neutarl\n",
    "l=[]\n",
    "for i in list(df['Label']):\n",
    "    if(i==5):\n",
    "        l.append('Positive')\n",
    "    elif(i==1 or i==2):\n",
    "        l.append(\"Negetive\")\n",
    "    else:\n",
    "        l.append(\"Neutral\")\n",
    "df['Categories'] = l \n",
    "\n",
    "X_train, X_test, y_train, y_test = train_test_split(df['Review'], df['Categories']) \n",
    "vect = TfidfVectorizer(min_df = 5).fit(X_train) # converting words into vector and finding its tfidf value by using TfidfVectorizer\n",
    "X_train_vectorized = vect.transform(X_train)\n",
    "\n",
    "\n",
    "# Train the model by using LogisticRegression\n",
    "model = LogisticRegression()\n",
    "model.fit(X_train_vectorized, y_train) # fit data in the model\n",
    "predictions = model.predict(vect.transform(X_test)) # predict by using the model\n",
    "\n",
    "\n",
    "#Checking accuracy in the form of F1 score\n",
    "#print(classification_report(predictions,y_test))"
   ]
  },
  {
   "cell_type": "code",
   "execution_count": 21,
   "metadata": {},
   "outputs": [
    {
     "name": "stdout",
     "output_type": "stream",
     "text": [
      "0\n"
     ]
    }
   ],
   "source": [
    "review = \"The teacher was really bad\"\n",
    "outcome = model.predict(vect.transform([review]))\n",
    "if outcome == 'Positive':\n",
    "    outcome = '+1'\n",
    "if outcome == 'Negetive':\n",
    "    outcome = '-1'\n",
    "else:\n",
    "    outcome = '0'\n",
    "print(outcome)"
   ]
  },
  {
   "cell_type": "code",
   "execution_count": 31,
   "metadata": {},
   "outputs": [],
   "source": [
    "import mysql.connector\n",
    "connection = mysql.connector.connect(host='localhost',\n",
    "                             user='root',\n",
    "                             db='id4165564_olcademy')\n",
    "cursor = connection.cursor()\n",
    "\n",
    "sql = \"INSERT INTO reviews_for_lec (comment, classification) VALUES (%s, %s)\"\n",
    "val = (review, outcome)\n",
    "cursor.execute(sql, val)\n",
    "\n",
    "connection.commit()\n",
    "#cursor.execute(\"\"\"INSERT INTO reviews_for_lec ('comment','classification') VALUES (%s,%s);\"\"\" ,(review,outcome))\n",
    "#insert_tuple = (review,outcome)"
   ]
  }
 ],
 "metadata": {
  "kernelspec": {
   "display_name": "Python 3",
   "language": "python",
   "name": "python3"
  },
  "language_info": {
   "codemirror_mode": {
    "name": "ipython",
    "version": 3
   },
   "file_extension": ".py",
   "mimetype": "text/x-python",
   "name": "python",
   "nbconvert_exporter": "python",
   "pygments_lexer": "ipython3",
   "version": "3.7.4"
  }
 },
 "nbformat": 4,
 "nbformat_minor": 2
}
